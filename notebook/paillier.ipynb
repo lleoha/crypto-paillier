{
 "cells": [
  {
   "cell_type": "code",
   "execution_count": 19,
   "id": "46ec2e54-9df9-474d-bd1c-e85254420391",
   "metadata": {},
   "outputs": [],
   "source": [
    "class Paillier:\n",
    "    def __init__(self, p, q):\n",
    "        self._lambda = (p-1)*(q-1)\n",
    "        self._n = p*q\n",
    "        self._g = self._n+1\n",
    "\n",
    "    def encrypt(self, m, r):\n",
    "        return (power_mod(self._g, m, self._n^2) * power_mod(r, self._n, self._n^2)) % self._n^2\n",
    "\n",
    "    def decrypt(self, c):\n",
    "        nom = self._l(power_mod(c, self._lambda, self._n^2))\n",
    "        den = self._l(power_mod(self._g, self._lambda, self._n^2))\n",
    "        return ((nom % self._n) * inverse_mod(den, self._n)) % self._n\n",
    "\n",
    "    def open(self, c):\n",
    "        s1 = self.decrypt(c)\n",
    "        n_inv = inverse_mod(self._n, self._lambda)\n",
    "        den = power_mod(self._g, -s1, self._n)\n",
    "        s2 = power_mod(c * den, n_inv, self._n)\n",
    "        return s1, s2\n",
    "    \n",
    "    def _l(self, u):\n",
    "        return (u - 1) // self._n\n"
   ]
  },
  {
   "cell_type": "code",
   "execution_count": 21,
   "id": "8edd7985-6f3e-43c4-96c2-2520e385838a",
   "metadata": {},
   "outputs": [],
   "source": [
    "p = 241\n",
    "q = 251\n",
    "paillier = Paillier(p, q)\n",
    "\n",
    "m = 12345\n",
    "r = 11111\n",
    "c = paillier.encrypt(m, r)\n",
    "m2, r2 = paillier.open(c)\n",
    "assert(m == m2)\n",
    "assert(r == r2)\n",
    "\n"
   ]
  },
  {
   "cell_type": "code",
   "execution_count": null,
   "id": "a54fc41b-9809-44bc-88c9-47e22e0388dd",
   "metadata": {},
   "outputs": [],
   "source": []
  }
 ],
 "metadata": {
  "kernelspec": {
   "display_name": "SageMath 10.4",
   "language": "sage",
   "name": "sagemath"
  },
  "language_info": {
   "codemirror_mode": {
    "name": "ipython",
    "version": 3
   },
   "file_extension": ".py",
   "mimetype": "text/x-python",
   "name": "python",
   "nbconvert_exporter": "python",
   "pygments_lexer": "ipython3",
   "version": "3.12.4"
  }
 },
 "nbformat": 4,
 "nbformat_minor": 5
}
